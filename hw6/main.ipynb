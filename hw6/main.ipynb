{
 "cells": [
  {
   "cell_type": "code",
   "execution_count": 50,
   "metadata": {},
   "outputs": [],
   "source": [
    "from decoder import TransformerDecoder\n",
    "import numpy as np\n",
    "import tensorflow as tf\n",
    "from AdamW import AdamW"
   ]
  },
  {
   "cell_type": "code",
   "execution_count": 51,
   "metadata": {},
   "outputs": [],
   "source": [
    "#simple token cheme from https://www.tensorflow.org/text/tutorials/word2vec\n",
    "def gen_vocab(corpus):\n",
    "    vocab = {}\n",
    "    vocab[\"<start>\"] = 0\n",
    "    vocab[\"<end>\"] = 1\n",
    "    i = 2\n",
    "    tokens = corpus.lower().split()\n",
    "    for token in tokens:\n",
    "        if token  not in vocab:\n",
    "            vocab[token] = i\n",
    "            i+=1\n",
    "    return vocab\n",
    "\n"
   ]
  },
  {
   "cell_type": "code",
   "execution_count": 52,
   "metadata": {},
   "outputs": [
    {
     "data": {
      "text/plain": [
       "{'<start>': 0,\n",
       " '<end>': 1,\n",
       " 'to': 2,\n",
       " 'be,': 3,\n",
       " 'or': 4,\n",
       " 'not': 5,\n",
       " 'that': 6,\n",
       " 'is': 7,\n",
       " 'the': 8,\n",
       " 'question': 9}"
      ]
     },
     "execution_count": 52,
     "metadata": {},
     "output_type": "execute_result"
    }
   ],
   "source": [
    "corpus = \"to be, or not to be, that is the question\"\n",
    "\n",
    "\n",
    "vocab = gen_vocab(corpus)\n",
    "\n",
    "vocab\n",
    "inverse_vocab = {index: token for token, index in vocab.items()}\n",
    "inverse_vocab\n",
    "vocab"
   ]
  },
  {
   "cell_type": "code",
   "execution_count": 53,
   "metadata": {},
   "outputs": [
    {
     "data": {
      "text/plain": [
       "array([[0, 2, 3, 4, 5, 2, 3, 6, 7, 8, 9]])"
      ]
     },
     "execution_count": 53,
     "metadata": {},
     "output_type": "execute_result"
    }
   ],
   "source": [
    "\n",
    "sentence = \"<start> \" + corpus + \" <end>\"\n",
    "tokenize = lambda sentence : [vocab[word] for word in sentence.lower().split()]\n",
    "detokenize = lambda tokenized_text : ' '.join([inverse_vocab[x] for x in tokenized_text])\n",
    "\n",
    "tokenized_text = tokenize(sentence)\n",
    "input_text = np.array(tokenized_text[:-1])[np.newaxis,:]\n",
    "target_text = np.array(tokenized_text[1:])[np.newaxis,:]\n",
    "target_text\n",
    "input_text"
   ]
  },
  {
   "cell_type": "code",
   "execution_count": 54,
   "metadata": {},
   "outputs": [],
   "source": [
    "def get_loss(labels, logits):\n",
    "    return tf.reduce_mean(\n",
    "        tf.nn.sparse_softmax_cross_entropy_with_logits(labels, logits)\n",
    "    )"
   ]
  },
  {
   "cell_type": "code",
   "execution_count": 55,
   "metadata": {},
   "outputs": [],
   "source": [
    "\n",
    "model = TransformerDecoder(dim_model=512, heads=8, blocks=1, vocab_size=len(vocab), max_len=20)\n",
    "\n",
    "\n"
   ]
  },
  {
   "cell_type": "code",
   "execution_count": 56,
   "metadata": {},
   "outputs": [],
   "source": [
    "from tqdm import trange\n",
    "def train(model, optimizer, input_text, output_text, iterations, get_loss):\n",
    "    bar = trange(iterations)\n",
    "    for i in bar:\n",
    "        with tf.GradientTape() as tape:\n",
    "            est_labels = model(input_text)\n",
    "            loss = get_loss(labels=target_text, logits=est_labels)\n",
    "\n",
    "            grads = tape.gradient(loss, model.trainable_variables)\n",
    "\n",
    "            grads = [tf.convert_to_tensor(grad) for grad in grads]\n",
    "    \n",
    "            optimizer.apply_gradients(grads, model.trainable_variables)\n",
    "\n",
    "\n",
    "\n",
    "        if i%10 == (10 - 1):\n",
    "            bar.set_description(f\"Step {i}; Loss=> {loss.numpy():0.4f}\")\n",
    "            bar.refresh()\n",
    "    \n",
    "\n",
    "\n",
    "\n",
    "\n",
    "\n",
    "\n"
   ]
  },
  {
   "cell_type": "code",
   "execution_count": 57,
   "metadata": {},
   "outputs": [
    {
     "name": "stderr",
     "output_type": "stream",
     "text": [
      "  0%|          | 0/2000 [00:00<?, ?it/s]"
     ]
    },
    {
     "name": "stderr",
     "output_type": "stream",
     "text": [
      "Step 1999; Loss=> 0.0000: 100%|██████████| 2000/2000 [01:39<00:00, 20.04it/s]\n"
     ]
    }
   ],
   "source": [
    "optimizer = AdamW()\n",
    "train(model, optimizer, input_text, target_text, 2000, get_loss)"
   ]
  },
  {
   "cell_type": "code",
   "execution_count": 91,
   "metadata": {},
   "outputs": [
    {
     "name": "stdout",
     "output_type": "stream",
     "text": [
      "<start> be, or not to be, that is the question <end>\n"
     ]
    }
   ],
   "source": [
    "\n",
    "x = np.array(tokenize(\"<start>\"))[np.newaxis,:]\n",
    "\n",
    "output = model(x)\n",
    "\n",
    "\n",
    "while 1:\n",
    "    predicted_tokens = tf.math.argmax(output, axis = - 1)\n",
    "\n",
    "    output = model(x)\n",
    "   \n",
    "    predicted_tokens = tf.math.argmax(output, axis = - 1)\n",
    "    first_predicted_token = predicted_tokens[:,-1]\n",
    "    \n",
    "    \n",
    "    x = tf.concat([x, first_predicted_token[tf.newaxis, :]], axis=1)\n",
    "    if int(first_predicted_token) == 1:\n",
    "        break\n",
    "print(detokenize(np.array(x[0])))\n",
    "#detokenize(np.array(tf.math.argmax(output, axis = - 1)[0]))\n",
    "\n"
   ]
  },
  {
   "cell_type": "code",
   "execution_count": 59,
   "metadata": {},
   "outputs": [
    {
     "data": {
      "text/plain": [
       "ListWrapper([True])"
      ]
     },
     "execution_count": 59,
     "metadata": {},
     "output_type": "execute_result"
    }
   ],
   "source": [
    "model.blocks[0].isTrain"
   ]
  },
  {
   "cell_type": "code",
   "execution_count": 60,
   "metadata": {},
   "outputs": [],
   "source": [
    "def generate(model, prompt, max_token_gen):\n",
    "        \n",
    "    for _ in range(max_token_gen):\n",
    "\n",
    "        output = model(prompt)\n",
    "\n",
    "        predicted_tokens = tf.math.argmax(output, axis = - 1)\n",
    "        first_predicted_token = predicted_tokens[:,0]\n",
    "\n",
    "\n",
    "        prompt = tf.concat([prompt, first_predicted_token[tf.newaxis, :]], axis=1)\n",
    "\n",
    "\n",
    "    return prompt"
   ]
  },
  {
   "cell_type": "code",
   "execution_count": 61,
   "metadata": {},
   "outputs": [
    {
     "data": {
      "text/plain": [
       "<tf.Tensor: shape=(1,), dtype=int64, numpy=array([2])>"
      ]
     },
     "execution_count": 61,
     "metadata": {},
     "output_type": "execute_result"
    }
   ],
   "source": [
    "output = model(x)\n",
    "\n",
    "predicted_tokens = tf.math.argmax(output, axis = - 1)\n",
    "first_predicted_token = predicted_tokens[:,0]\n",
    "\n",
    "\n",
    "first_predicted_token\n"
   ]
  },
  {
   "cell_type": "markdown",
   "metadata": {},
   "source": [
    "generate()"
   ]
  }
 ],
 "metadata": {
  "kernelspec": {
   "display_name": "Python 3",
   "language": "python",
   "name": "python3"
  },
  "language_info": {
   "codemirror_mode": {
    "name": "ipython",
    "version": 3
   },
   "file_extension": ".py",
   "mimetype": "text/x-python",
   "name": "python",
   "nbconvert_exporter": "python",
   "pygments_lexer": "ipython3",
   "version": "3.11.5"
  }
 },
 "nbformat": 4,
 "nbformat_minor": 2
}
