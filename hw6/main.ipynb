{
 "cells": [
  {
   "cell_type": "code",
   "execution_count": 1,
   "metadata": {},
   "outputs": [
    {
     "name": "stderr",
     "output_type": "stream",
     "text": [
      "2023-10-30 15:24:53.138921: I tensorflow/core/platform/cpu_feature_guard.cc:182] This TensorFlow binary is optimized to use available CPU instructions in performance-critical operations.\n",
      "To enable the following instructions: FMA, in other operations, rebuild TensorFlow with the appropriate compiler flags.\n",
      "2023-10-30 15:24:54.379250: E tensorflow/compiler/xla/stream_executor/cuda/cuda_driver.cc:268] failed call to cuInit: CUDA_ERROR_UNKNOWN: unknown error\n",
      "2023-10-30 15:24:54.379269: I tensorflow/compiler/xla/stream_executor/cuda/cuda_diagnostics.cc:168] retrieving CUDA diagnostic information for host: archpc\n",
      "2023-10-30 15:24:54.379273: I tensorflow/compiler/xla/stream_executor/cuda/cuda_diagnostics.cc:175] hostname: archpc\n",
      "2023-10-30 15:24:54.379351: I tensorflow/compiler/xla/stream_executor/cuda/cuda_diagnostics.cc:199] libcuda reported version is: 535.113.1\n",
      "2023-10-30 15:24:54.379366: I tensorflow/compiler/xla/stream_executor/cuda/cuda_diagnostics.cc:203] kernel reported version is: 535.113.1\n",
      "2023-10-30 15:24:54.379370: I tensorflow/compiler/xla/stream_executor/cuda/cuda_diagnostics.cc:309] kernel version seems to match DSO: 535.113.1\n",
      "2023-10-30 15:24:54.380761: I tensorflow/core/common_runtime/process_util.cc:146] Creating new thread pool with default inter op setting: 2. Tune using inter_op_parallelism_threads for best performance.\n"
     ]
    }
   ],
   "source": [
    "from decoder import TransformerDecoder\n",
    "import numpy as np\n",
    "import tensorflow as tf\n",
    "from AdamW import AdamW"
   ]
  },
  {
   "cell_type": "code",
   "execution_count": 2,
   "metadata": {},
   "outputs": [],
   "source": [
    "#simple token cheme from https://www.tensorflow.org/text/tutorials/word2vec\n",
    "def gen_vocab(corpus):\n",
    "    vocab = {}\n",
    "    vocab[\"<start>\"] = 0\n",
    "    vocab[\"<end>\"] = 1\n",
    "    i = 2\n",
    "    tokens = corpus.lower().split()\n",
    "    for token in tokens:\n",
    "        if token  not in vocab:\n",
    "            vocab[token] = i\n",
    "        i+=1\n",
    "    return vocab\n",
    "\n"
   ]
  },
  {
   "cell_type": "code",
   "execution_count": 3,
   "metadata": {},
   "outputs": [
    {
     "data": {
      "text/plain": [
       "{0: '<start>', 1: '<end>', 2: 'hello', 3: 'how', 4: 'are', 5: 'you'}"
      ]
     },
     "execution_count": 3,
     "metadata": {},
     "output_type": "execute_result"
    }
   ],
   "source": [
    "corpus = \"hello how are you\"\n",
    "\n",
    "vocab = gen_vocab(corpus)\n",
    "\n",
    "vocab\n",
    "inverse_vocab = {index: token for token, index in vocab.items()}\n",
    "inverse_vocab"
   ]
  },
  {
   "cell_type": "code",
   "execution_count": 40,
   "metadata": {},
   "outputs": [
    {
     "data": {
      "text/plain": [
       "array([[0, 2, 3, 4, 5]])"
      ]
     },
     "execution_count": 40,
     "metadata": {},
     "output_type": "execute_result"
    }
   ],
   "source": [
    "\n",
    "sentence = \"<start> hello how are you <end>\"\n",
    "tokenize = lambda sentence : [vocab[word] for word in sentence.lower().split()]\n",
    "detokenize = lambda tokenized_text : ' '.join([inverse_vocab[x] for x in tokenized_text])\n",
    "\n",
    "tokenized_text = tokenize(sentence)\n",
    "input_text = np.array(tokenized_text[:-1])[np.newaxis,:]\n",
    "target_text = np.array(tokenized_text[1:])[np.newaxis,:]\n",
    "target_text\n",
    "input_text"
   ]
  },
  {
   "cell_type": "code",
   "execution_count": 5,
   "metadata": {},
   "outputs": [],
   "source": [
    "def get_loss(labels, logits):\n",
    "    return tf.reduce_mean(\n",
    "        tf.nn.sparse_softmax_cross_entropy_with_logits(labels, logits)\n",
    "    )"
   ]
  },
  {
   "cell_type": "code",
   "execution_count": 216,
   "metadata": {},
   "outputs": [
    {
     "data": {
      "text/plain": [
       "<tf.Tensor: shape=(), dtype=float32, numpy=2.1251516>"
      ]
     },
     "execution_count": 216,
     "metadata": {},
     "output_type": "execute_result"
    }
   ],
   "source": [
    "model = TransformerDecoder(dim_model=512, heads=8, blocks=1, vocab_size=len(vocab), max_len=5)\n",
    "\n",
    "\n",
    "get_loss(target_text  ,model(input_text))\n"
   ]
  },
  {
   "cell_type": "code",
   "execution_count": 81,
   "metadata": {},
   "outputs": [],
   "source": [
    "from tqdm import trange\n",
    "def train(model, optimizer, input_text, output_text, iterations, get_loss):\n",
    "    bar = trange(iterations)\n",
    "    for i in bar:\n",
    "        with tf.GradientTape() as tape:\n",
    "            est_labels = model(input_text)\n",
    "            loss = get_loss(labels=target_text, logits=est_labels)\n",
    "\n",
    "            grads = tape.gradient(loss, model.trainable_variables)\n",
    "\n",
    "            grads = [tf.convert_to_tensor(grad) for grad in grads]\n",
    "    \n",
    "            optimizer.apply_gradients(grads, model.trainable_variables)\n",
    "\n",
    "\n",
    "\n",
    "        if i%10 == (10 - 1):\n",
    "            bar.set_description(f\"Step {i}; Loss=> {loss.numpy():0.4f}\")\n",
    "            bar.refresh()\n",
    "    \n",
    "\n",
    "\n",
    "\n",
    "\n",
    "\n",
    "\n"
   ]
  },
  {
   "cell_type": "code",
   "execution_count": 217,
   "metadata": {},
   "outputs": [
    {
     "name": "stderr",
     "output_type": "stream",
     "text": [
      "Step 219; Loss=> 0.0000:  44%|████▍     | 221/500 [00:10<00:13, 20.96it/s]"
     ]
    }
   ],
   "source": [
    "optimizer = AdamW()\n",
    "train(model, optimizer, input_text, target_text, 500, get_loss)"
   ]
  },
  {
   "cell_type": "code",
   "execution_count": 215,
   "metadata": {},
   "outputs": [
    {
     "data": {
      "text/plain": [
       "'hello how are you'"
      ]
     },
     "execution_count": 215,
     "metadata": {},
     "output_type": "execute_result"
    }
   ],
   "source": [
    "x = np.array(tokenized_text[0:1])[np.newaxis,:]\n",
    "\n",
    "\n",
    "output = model(x)\n",
    "\n",
    "detokenize(np.array(tf.math.argmax(output, axis = - 1)[0]))\n",
    "\n",
    "\n"
   ]
  },
  {
   "cell_type": "code",
   "execution_count": 56,
   "metadata": {},
   "outputs": [
    {
     "data": {
      "text/plain": [
       "array([[0, 2, 3, 4, 5]])"
      ]
     },
     "execution_count": 56,
     "metadata": {},
     "output_type": "execute_result"
    }
   ],
   "source": [
    "x"
   ]
  },
  {
   "cell_type": "code",
   "execution_count": 10,
   "metadata": {},
   "outputs": [],
   "source": [
    "def generate(model, prompt, max_token_gen):\n",
    "        \n",
    "    for _ in range(max_token_gen):\n",
    "\n",
    "        output = model(prompt[:, -5:])\n",
    "\n",
    "        predicted_tokens = tf.math.argmax(output, axis = - 1)\n",
    "        first_predicted_token = predicted_tokens[:,0]\n",
    "\n",
    "\n",
    "        prompt = tf.concat([prompt, first_predicted_token[tf.newaxis, :]], axis=1)\n",
    "\n",
    "\n",
    "    return prompt"
   ]
  },
  {
   "cell_type": "code",
   "execution_count": 11,
   "metadata": {},
   "outputs": [
    {
     "data": {
      "text/plain": [
       "<tf.Tensor: shape=(1,), dtype=int64, numpy=array([1])>"
      ]
     },
     "execution_count": 11,
     "metadata": {},
     "output_type": "execute_result"
    }
   ],
   "source": [
    "output = model(x)\n",
    "\n",
    "predicted_tokens = tf.math.argmax(output, axis = - 1)\n",
    "first_predicted_token = predicted_tokens[:,0]\n",
    "\n",
    "\n",
    "first_predicted_token\n"
   ]
  },
  {
   "cell_type": "markdown",
   "metadata": {},
   "source": [
    "generate()"
   ]
  }
 ],
 "metadata": {
  "kernelspec": {
   "display_name": "Python 3",
   "language": "python",
   "name": "python3"
  },
  "language_info": {
   "codemirror_mode": {
    "name": "ipython",
    "version": 3
   },
   "file_extension": ".py",
   "mimetype": "text/x-python",
   "name": "python",
   "nbconvert_exporter": "python",
   "pygments_lexer": "ipython3",
   "version": "3.11.5"
  }
 },
 "nbformat": 4,
 "nbformat_minor": 2
}
