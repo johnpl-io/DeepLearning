{
 "cells": [
  {
   "cell_type": "code",
   "execution_count": 23,
   "metadata": {},
   "outputs": [],
   "source": [
    "from decoder import TransformerDecoder\n",
    "import numpy as np\n",
    "import tensorflow as tf\n",
    "from AdamW import AdamW"
   ]
  },
  {
   "cell_type": "code",
   "execution_count": 24,
   "metadata": {},
   "outputs": [],
   "source": [
    "#simple token cheme from https://www.tensorflow.org/text/tutorials/word2vec\n",
    "def gen_vocab(corpus):\n",
    "    vocab = {}\n",
    "    vocab[\"<start>\"] = 0\n",
    "    vocab[\"<end>\"] = 1\n",
    "    i = 2\n",
    "    tokens = corpus.lower().split()\n",
    "    for token in tokens:\n",
    "        if token  not in vocab:\n",
    "            vocab[token] = i\n",
    "            i+=1\n",
    "    return vocab\n",
    "\n"
   ]
  },
  {
   "cell_type": "code",
   "execution_count": 25,
   "metadata": {},
   "outputs": [
    {
     "data": {
      "text/plain": [
       "{'<start>': 0,\n",
       " '<end>': 1,\n",
       " 'to': 2,\n",
       " 'be,': 3,\n",
       " 'or': 4,\n",
       " 'not': 5,\n",
       " 'that': 6,\n",
       " 'is': 7,\n",
       " 'the': 8,\n",
       " 'question': 9}"
      ]
     },
     "execution_count": 25,
     "metadata": {},
     "output_type": "execute_result"
    }
   ],
   "source": [
    "corpus = \"to be, or not to be, that is the question\"\n",
    "\n",
    "\n",
    "vocab = gen_vocab(corpus)\n",
    "\n",
    "vocab\n",
    "inverse_vocab = {index: token for token, index in vocab.items()}\n",
    "inverse_vocab\n",
    "vocab"
   ]
  },
  {
   "cell_type": "code",
   "execution_count": 26,
   "metadata": {},
   "outputs": [
    {
     "data": {
      "text/plain": [
       "array([[0, 2, 3, 4, 5, 2, 3, 6, 7, 8, 9]])"
      ]
     },
     "execution_count": 26,
     "metadata": {},
     "output_type": "execute_result"
    }
   ],
   "source": [
    "\n",
    "sentence = \"<start> \" + corpus + \" <end>\"\n",
    "tokenize = lambda sentence : [vocab[word] for word in sentence.lower().split()]\n",
    "detokenize = lambda tokenized_text : ' '.join([inverse_vocab[x] for x in tokenized_text])\n",
    "\n",
    "tokenized_text = tokenize(sentence)\n",
    "input_text = np.array(tokenized_text[:-1])[np.newaxis,:]\n",
    "target_text = np.array(tokenized_text[1:])[np.newaxis,:]\n",
    "target_text\n",
    "input_text"
   ]
  },
  {
   "cell_type": "code",
   "execution_count": 27,
   "metadata": {},
   "outputs": [],
   "source": [
    "def get_loss(labels, logits):\n",
    "    return tf.reduce_mean(\n",
    "        tf.nn.sparse_softmax_cross_entropy_with_logits(labels, logits)\n",
    "    )"
   ]
  },
  {
   "cell_type": "code",
   "execution_count": 28,
   "metadata": {},
   "outputs": [],
   "source": [
    "\n",
    "model = TransformerDecoder(dim_model=512, heads=8, blocks=1, vocab_size=len(vocab), max_len=20)\n",
    "\n",
    "\n"
   ]
  },
  {
   "cell_type": "code",
   "execution_count": 29,
   "metadata": {},
   "outputs": [],
   "source": [
    "from tqdm import trange\n",
    "def train(model, optimizer, input_text, output_text, iterations, get_loss):\n",
    "    bar = trange(iterations)\n",
    "    for i in bar:\n",
    "        with tf.GradientTape() as tape:\n",
    "            est_labels = model(input_text)\n",
    "            loss = get_loss(labels=target_text, logits=est_labels)\n",
    "\n",
    "            grads = tape.gradient(loss, model.trainable_variables)\n",
    "\n",
    "            grads = [tf.convert_to_tensor(grad) for grad in grads]\n",
    "    \n",
    "            optimizer.apply_gradients(grads, model.trainable_variables)\n",
    "\n",
    "\n",
    "\n",
    "        if i%10 == (10 - 1):\n",
    "            bar.set_description(f\"Step {i}; Loss=> {loss.numpy():0.4f}\")\n",
    "            bar.refresh()\n",
    "    \n",
    "\n",
    "\n",
    "\n",
    "\n",
    "\n",
    "\n"
   ]
  },
  {
   "cell_type": "code",
   "execution_count": 30,
   "metadata": {},
   "outputs": [
    {
     "name": "stderr",
     "output_type": "stream",
     "text": [
      "  1%|          | 4/500 [00:00<00:29, 16.97it/s]"
     ]
    },
    {
     "name": "stderr",
     "output_type": "stream",
     "text": [
      "Step 79; Loss=> 0.0004:  16%|█▋        | 82/500 [00:04<00:21, 19.44it/s]\n"
     ]
    },
    {
     "ename": "KeyboardInterrupt",
     "evalue": "",
     "output_type": "error",
     "traceback": [
      "\u001b[0;31m---------------------------------------------------------------------------\u001b[0m",
      "\u001b[0;31mKeyboardInterrupt\u001b[0m                         Traceback (most recent call last)",
      "\u001b[1;32m/home/john/Documents/DeepLearning/hw6/main.ipynb Cell 8\u001b[0m line \u001b[0;36m2\n\u001b[1;32m      <a href='vscode-notebook-cell:/home/john/Documents/DeepLearning/hw6/main.ipynb#X10sZmlsZQ%3D%3D?line=0'>1</a>\u001b[0m optimizer \u001b[39m=\u001b[39m AdamW()\n\u001b[0;32m----> <a href='vscode-notebook-cell:/home/john/Documents/DeepLearning/hw6/main.ipynb#X10sZmlsZQ%3D%3D?line=1'>2</a>\u001b[0m train(model, optimizer, input_text, target_text, \u001b[39m500\u001b[39;49m, get_loss)\n",
      "\u001b[1;32m/home/john/Documents/DeepLearning/hw6/main.ipynb Cell 8\u001b[0m line \u001b[0;36m1\n\u001b[1;32m      <a href='vscode-notebook-cell:/home/john/Documents/DeepLearning/hw6/main.ipynb#X10sZmlsZQ%3D%3D?line=8'>9</a>\u001b[0m     grads \u001b[39m=\u001b[39m tape\u001b[39m.\u001b[39mgradient(loss, model\u001b[39m.\u001b[39mtrainable_variables)\n\u001b[1;32m     <a href='vscode-notebook-cell:/home/john/Documents/DeepLearning/hw6/main.ipynb#X10sZmlsZQ%3D%3D?line=10'>11</a>\u001b[0m     grads \u001b[39m=\u001b[39m [tf\u001b[39m.\u001b[39mconvert_to_tensor(grad) \u001b[39mfor\u001b[39;00m grad \u001b[39min\u001b[39;00m grads]\n\u001b[0;32m---> <a href='vscode-notebook-cell:/home/john/Documents/DeepLearning/hw6/main.ipynb#X10sZmlsZQ%3D%3D?line=12'>13</a>\u001b[0m     optimizer\u001b[39m.\u001b[39;49mapply_gradients(grads, model\u001b[39m.\u001b[39;49mtrainable_variables)\n\u001b[1;32m     <a href='vscode-notebook-cell:/home/john/Documents/DeepLearning/hw6/main.ipynb#X10sZmlsZQ%3D%3D?line=16'>17</a>\u001b[0m \u001b[39mif\u001b[39;00m i\u001b[39m%\u001b[39m\u001b[39m10\u001b[39m \u001b[39m==\u001b[39m (\u001b[39m10\u001b[39m \u001b[39m-\u001b[39m \u001b[39m1\u001b[39m):\n\u001b[1;32m     <a href='vscode-notebook-cell:/home/john/Documents/DeepLearning/hw6/main.ipynb#X10sZmlsZQ%3D%3D?line=17'>18</a>\u001b[0m     bar\u001b[39m.\u001b[39mset_description(\u001b[39mf\u001b[39m\u001b[39m\"\u001b[39m\u001b[39mStep \u001b[39m\u001b[39m{\u001b[39;00mi\u001b[39m}\u001b[39;00m\u001b[39m; Loss=> \u001b[39m\u001b[39m{\u001b[39;00mloss\u001b[39m.\u001b[39mnumpy()\u001b[39m:\u001b[39;00m\u001b[39m0.4f\u001b[39m\u001b[39m}\u001b[39;00m\u001b[39m\"\u001b[39m)\n",
      "File \u001b[0;32m~/Documents/DeepLearning/hw6/AdamW.py:39\u001b[0m, in \u001b[0;36mAdamW.apply_gradients\u001b[0;34m(self, grads, vars)\u001b[0m\n\u001b[1;32m     37\u001b[0m     v_dvar_bc \u001b[39m=\u001b[39m \u001b[39mself\u001b[39m\u001b[39m.\u001b[39mv_dvar[i] \u001b[39m/\u001b[39m (\u001b[39m1\u001b[39m \u001b[39m-\u001b[39m (\u001b[39mself\u001b[39m\u001b[39m.\u001b[39mbeta_1\u001b[39m*\u001b[39m\u001b[39m*\u001b[39m\u001b[39mself\u001b[39m\u001b[39m.\u001b[39mt))\n\u001b[1;32m     38\u001b[0m     s_dvar_bc \u001b[39m=\u001b[39m \u001b[39mself\u001b[39m\u001b[39m.\u001b[39ms_dvar[i] \u001b[39m/\u001b[39m (\u001b[39m1\u001b[39m \u001b[39m-\u001b[39m (\u001b[39mself\u001b[39m\u001b[39m.\u001b[39mbeta_2\u001b[39m*\u001b[39m\u001b[39m*\u001b[39m\u001b[39mself\u001b[39m\u001b[39m.\u001b[39mt))\n\u001b[0;32m---> 39\u001b[0m     var\u001b[39m.\u001b[39;49massign_sub(\n\u001b[1;32m     40\u001b[0m         \u001b[39mself\u001b[39;49m\u001b[39m.\u001b[39;49mlearning_rate\n\u001b[1;32m     41\u001b[0m         \u001b[39m*\u001b[39;49m (v_dvar_bc \u001b[39m/\u001b[39;49m (tf\u001b[39m.\u001b[39;49msqrt(s_dvar_bc) \u001b[39m+\u001b[39;49m \u001b[39mself\u001b[39;49m\u001b[39m.\u001b[39;49mep) \u001b[39m+\u001b[39;49m \u001b[39mself\u001b[39;49m\u001b[39m.\u001b[39;49mweight_decay \u001b[39m*\u001b[39;49m var)\n\u001b[1;32m     42\u001b[0m     )\n\u001b[1;32m     43\u001b[0m \u001b[39mself\u001b[39m\u001b[39m.\u001b[39mt \u001b[39m+\u001b[39m\u001b[39m=\u001b[39m \u001b[39m1.0\u001b[39m\n\u001b[1;32m     44\u001b[0m \u001b[39mreturn\u001b[39;00m\n",
      "File \u001b[0;32m/usr/lib/python3.11/site-packages/tensorflow/python/ops/resource_variable_ops.py:954\u001b[0m, in \u001b[0;36mBaseResourceVariable.assign_sub\u001b[0;34m(self, delta, use_locking, name, read_value)\u001b[0m\n\u001b[1;32m    950\u001b[0m \u001b[39m# TODO(apassos): this here and below is not atomic. Consider making it\u001b[39;00m\n\u001b[1;32m    951\u001b[0m \u001b[39m# atomic if there's a way to do so without a performance cost for those who\u001b[39;00m\n\u001b[1;32m    952\u001b[0m \u001b[39m# don't need it.\u001b[39;00m\n\u001b[1;32m    953\u001b[0m \u001b[39mwith\u001b[39;00m _handle_graph(\u001b[39mself\u001b[39m\u001b[39m.\u001b[39mhandle), \u001b[39mself\u001b[39m\u001b[39m.\u001b[39m_assign_dependencies():\n\u001b[0;32m--> 954\u001b[0m   assign_sub_op \u001b[39m=\u001b[39m gen_resource_variable_ops\u001b[39m.\u001b[39;49massign_sub_variable_op(\n\u001b[1;32m    955\u001b[0m       \u001b[39mself\u001b[39;49m\u001b[39m.\u001b[39;49mhandle,\n\u001b[1;32m    956\u001b[0m       ops\u001b[39m.\u001b[39;49mconvert_to_tensor(delta, dtype\u001b[39m=\u001b[39;49m\u001b[39mself\u001b[39;49m\u001b[39m.\u001b[39;49mdtype),\n\u001b[1;32m    957\u001b[0m       name\u001b[39m=\u001b[39;49mname)\n\u001b[1;32m    958\u001b[0m \u001b[39mif\u001b[39;00m read_value:\n\u001b[1;32m    959\u001b[0m   \u001b[39mreturn\u001b[39;00m \u001b[39mself\u001b[39m\u001b[39m.\u001b[39m_lazy_read(assign_sub_op)\n",
      "File \u001b[0;32m/usr/lib/python3.11/site-packages/tensorflow/python/ops/gen_resource_variable_ops.py:92\u001b[0m, in \u001b[0;36massign_sub_variable_op\u001b[0;34m(resource, value, name)\u001b[0m\n\u001b[1;32m     90\u001b[0m \u001b[39mif\u001b[39;00m tld\u001b[39m.\u001b[39mis_eager:\n\u001b[1;32m     91\u001b[0m   \u001b[39mtry\u001b[39;00m:\n\u001b[0;32m---> 92\u001b[0m     _result \u001b[39m=\u001b[39m pywrap_tfe\u001b[39m.\u001b[39;49mTFE_Py_FastPathExecute(\n\u001b[1;32m     93\u001b[0m       _ctx, \u001b[39m\"\u001b[39;49m\u001b[39mAssignSubVariableOp\u001b[39;49m\u001b[39m\"\u001b[39;49m, name, resource, value)\n\u001b[1;32m     94\u001b[0m     \u001b[39mreturn\u001b[39;00m _result\n\u001b[1;32m     95\u001b[0m   \u001b[39mexcept\u001b[39;00m _core\u001b[39m.\u001b[39m_NotOkStatusException \u001b[39mas\u001b[39;00m e:\n",
      "\u001b[0;31mKeyboardInterrupt\u001b[0m: "
     ]
    }
   ],
   "source": [
    "optimizer = AdamW()\n",
    "train(model, optimizer, input_text, target_text, 500, get_loss)"
   ]
  },
  {
   "cell_type": "code",
   "execution_count": 34,
   "metadata": {},
   "outputs": [],
   "source": [
    "\n",
    "x = np.array(tokenize(\"<start>\"))[np.newaxis,:]\n",
    "\n",
    "output = model(x)\n",
    "\n",
    "model.blocks[0].isTrain[0] = False\n",
    "while 1:\n",
    "    predicted_tokens = tf.math.argmax(output, axis = - 1)\n",
    "\n",
    "    output = model(x)\n",
    "   \n",
    "    predicted_tokens = tf.math.argmax(output, axis = - 1)\n",
    "    first_predicted_token = predicted_tokens[:,-1]\n",
    "    \n",
    "    \n",
    "    x = tf.concat([x, first_predicted_token[tf.newaxis, :]], axis=1)\n",
    "    if int(first_predicted_token) == 1:\n",
    "        break\n",
    "detokenize(np.array(x[0]))\n",
    "#detokenize(np.array(tf.math.argmax(output, axis = - 1)[0]))\n",
    "\n"
   ]
  },
  {
   "cell_type": "code",
   "execution_count": null,
   "metadata": {},
   "outputs": [
    {
     "data": {
      "text/plain": [
       "ListWrapper([True])"
      ]
     },
     "execution_count": 16,
     "metadata": {},
     "output_type": "execute_result"
    }
   ],
   "source": [
    "model.blocks[0].isTrain"
   ]
  },
  {
   "cell_type": "code",
   "execution_count": null,
   "metadata": {},
   "outputs": [],
   "source": [
    "def generate(model, prompt, max_token_gen):\n",
    "        \n",
    "    for _ in range(max_token_gen):\n",
    "\n",
    "        output = model(prompt)\n",
    "\n",
    "        predicted_tokens = tf.math.argmax(output, axis = - 1)\n",
    "        first_predicted_token = predicted_tokens[:,0]\n",
    "\n",
    "\n",
    "        prompt = tf.concat([prompt, first_predicted_token[tf.newaxis, :]], axis=1)\n",
    "\n",
    "\n",
    "    return prompt"
   ]
  },
  {
   "cell_type": "code",
   "execution_count": null,
   "metadata": {},
   "outputs": [
    {
     "data": {
      "text/plain": [
       "<tf.Tensor: shape=(1,), dtype=int64, numpy=array([2])>"
      ]
     },
     "execution_count": 18,
     "metadata": {},
     "output_type": "execute_result"
    }
   ],
   "source": [
    "output = model(x)\n",
    "\n",
    "predicted_tokens = tf.math.argmax(output, axis = - 1)\n",
    "first_predicted_token = predicted_tokens[:,0]\n",
    "\n",
    "\n",
    "first_predicted_token\n"
   ]
  },
  {
   "cell_type": "markdown",
   "metadata": {},
   "source": [
    "generate()"
   ]
  }
 ],
 "metadata": {
  "kernelspec": {
   "display_name": "Python 3",
   "language": "python",
   "name": "python3"
  },
  "language_info": {
   "codemirror_mode": {
    "name": "ipython",
    "version": 3
   },
   "file_extension": ".py",
   "mimetype": "text/x-python",
   "name": "python",
   "nbconvert_exporter": "python",
   "pygments_lexer": "ipython3",
   "version": "3.11.5"
  }
 },
 "nbformat": 4,
 "nbformat_minor": 2
}
