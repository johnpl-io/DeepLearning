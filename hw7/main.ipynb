{
 "cells": [
  {
   "cell_type": "code",
   "execution_count": 1,
   "metadata": {},
   "outputs": [
    {
     "name": "stderr",
     "output_type": "stream",
     "text": [
      "2023-11-25 18:34:57.150706: I tensorflow/core/platform/cpu_feature_guard.cc:182] This TensorFlow binary is optimized to use available CPU instructions in performance-critical operations.\n",
      "To enable the following instructions: FMA, in other operations, rebuild TensorFlow with the appropriate compiler flags.\n",
      "2023-11-25 18:34:58.330052: I tensorflow/compiler/xla/stream_executor/cuda/cuda_gpu_executor.cc:995] successful NUMA node read from SysFS had negative value (-1), but there must be at least one NUMA node, so returning NUMA node zero. See more at https://github.com/torvalds/linux/blob/v6.0/Documentation/ABI/testing/sysfs-bus-pci#L344-L355\n",
      "2023-11-25 18:34:58.345548: I tensorflow/compiler/xla/stream_executor/cuda/cuda_gpu_executor.cc:995] successful NUMA node read from SysFS had negative value (-1), but there must be at least one NUMA node, so returning NUMA node zero. See more at https://github.com/torvalds/linux/blob/v6.0/Documentation/ABI/testing/sysfs-bus-pci#L344-L355\n",
      "2023-11-25 18:34:58.345715: I tensorflow/compiler/xla/stream_executor/cuda/cuda_gpu_executor.cc:995] successful NUMA node read from SysFS had negative value (-1), but there must be at least one NUMA node, so returning NUMA node zero. See more at https://github.com/torvalds/linux/blob/v6.0/Documentation/ABI/testing/sysfs-bus-pci#L344-L355\n",
      "2023-11-25 18:34:58.347362: I tensorflow/compiler/xla/stream_executor/cuda/cuda_gpu_executor.cc:995] successful NUMA node read from SysFS had negative value (-1), but there must be at least one NUMA node, so returning NUMA node zero. See more at https://github.com/torvalds/linux/blob/v6.0/Documentation/ABI/testing/sysfs-bus-pci#L344-L355\n",
      "2023-11-25 18:34:58.347640: I tensorflow/compiler/xla/stream_executor/cuda/cuda_gpu_executor.cc:995] successful NUMA node read from SysFS had negative value (-1), but there must be at least one NUMA node, so returning NUMA node zero. See more at https://github.com/torvalds/linux/blob/v6.0/Documentation/ABI/testing/sysfs-bus-pci#L344-L355\n",
      "2023-11-25 18:34:58.347777: I tensorflow/compiler/xla/stream_executor/cuda/cuda_gpu_executor.cc:995] successful NUMA node read from SysFS had negative value (-1), but there must be at least one NUMA node, so returning NUMA node zero. See more at https://github.com/torvalds/linux/blob/v6.0/Documentation/ABI/testing/sysfs-bus-pci#L344-L355\n",
      "2023-11-25 18:34:58.449268: I tensorflow/compiler/xla/stream_executor/cuda/cuda_gpu_executor.cc:995] successful NUMA node read from SysFS had negative value (-1), but there must be at least one NUMA node, so returning NUMA node zero. See more at https://github.com/torvalds/linux/blob/v6.0/Documentation/ABI/testing/sysfs-bus-pci#L344-L355\n",
      "2023-11-25 18:34:58.449491: I tensorflow/compiler/xla/stream_executor/cuda/cuda_gpu_executor.cc:995] successful NUMA node read from SysFS had negative value (-1), but there must be at least one NUMA node, so returning NUMA node zero. See more at https://github.com/torvalds/linux/blob/v6.0/Documentation/ABI/testing/sysfs-bus-pci#L344-L355\n",
      "2023-11-25 18:34:58.449637: I tensorflow/compiler/xla/stream_executor/cuda/cuda_gpu_executor.cc:995] successful NUMA node read from SysFS had negative value (-1), but there must be at least one NUMA node, so returning NUMA node zero. See more at https://github.com/torvalds/linux/blob/v6.0/Documentation/ABI/testing/sysfs-bus-pci#L344-L355\n",
      "2023-11-25 18:34:58.449744: I tensorflow/core/common_runtime/gpu/gpu_device.cc:1639] Created device /job:localhost/replica:0/task:0/device:GPU:0 with 4758 MB memory:  -> device: 0, name: NVIDIA GeForce RTX 3070 Ti, pci bus id: 0000:2b:00.0, compute capability: 8.6\n",
      "2023-11-25 18:34:58.450122: I tensorflow/core/common_runtime/process_util.cc:146] Creating new thread pool with default inter op setting: 2. Tune using inter_op_parallelism_threads for best performance.\n"
     ]
    }
   ],
   "source": [
    "import tensorflow as tf\n",
    "from siren import Siren\n",
    "from PIL import Image\n",
    "import matplotlib.pyplot as plt\n",
    "import numpy as np\n",
    "from tqdm import trange\n",
    "from Adam import Adam"
   ]
  },
  {
   "cell_type": "code",
   "execution_count": 2,
   "metadata": {},
   "outputs": [
    {
     "data": {
      "text/plain": [
       "(273, 365, 3)"
      ]
     },
     "execution_count": 2,
     "metadata": {},
     "output_type": "execute_result"
    }
   ],
   "source": [
    "def get_image(image_path):\n",
    "    img = np.asarray(Image.open(image_path))\n",
    "    return img\n",
    "img = get_image('Testcard_F.jpg')/255\n",
    "img = img.astype(np.float32)\n",
    "#moments = tf.nn.moments(img, axes=[0, 1])\n",
    "#moments\n",
    "img.shape"
   ]
  },
  {
   "cell_type": "code",
   "execution_count": 3,
   "metadata": {},
   "outputs": [],
   "source": [
    "def get_loss(true, guess):\n",
    "    tf.reduce_mean()"
   ]
  },
  {
   "cell_type": "code",
   "execution_count": 4,
   "metadata": {},
   "outputs": [
    {
     "data": {
      "text/plain": [
       "array([0.99607843, 0.99607843, 0.9882353 ], dtype=float32)"
      ]
     },
     "execution_count": 4,
     "metadata": {},
     "output_type": "execute_result"
    }
   ],
   "source": [
    "test = img.reshape(-1, 3)\n",
    "test[1*len(img[0]) + 2]"
   ]
  },
  {
   "cell_type": "code",
   "execution_count": 5,
   "metadata": {},
   "outputs": [
    {
     "data": {
      "text/plain": [
       "<tf.Tensor: shape=(2,), dtype=int32, numpy=array([362, 174], dtype=int32)>"
      ]
     },
     "execution_count": 5,
     "metadata": {},
     "output_type": "execute_result"
    }
   ],
   "source": [
    "tf.gather_nd(img, [[0,1], [2,3]])\n",
    "\n",
    "grid_shape = (273, 365)\n",
    "\n",
    "# Generate meshgrid\n",
    "x_vals, y_vals = tf.meshgrid(tf.range(273), tf.range(365))\n",
    "x_vals\n",
    "# Reshape to create pairs of (x, y) coordinates\n",
    "coordinates = tf.stack([ tf.reshape(y_vals, -1), tf.reshape(x_vals, -1)], axis=1)\n",
    "coordinates[99000]\n"
   ]
  },
  {
   "cell_type": "code",
   "execution_count": 6,
   "metadata": {},
   "outputs": [
    {
     "name": "stdout",
     "output_type": "stream",
     "text": [
      "tf.Tensor([ 0.5914596  -0.781914    0.99795276], shape=(3,), dtype=float32)\n",
      "tf.Tensor([ 0.5914596  -0.781914    0.99795276], shape=(3,), dtype=float32)\n"
     ]
    },
    {
     "name": "stderr",
     "output_type": "stream",
     "text": [
      "2023-11-25 18:34:58.827158: I tensorflow/compiler/xla/stream_executor/cuda/cuda_blas.cc:606] TensorFloat-32 will be used for the matrix multiplication. This will only be logged once.\n"
     ]
    }
   ],
   "source": [
    "\n",
    "siren_model = Siren(num_inputs=2, num_outputs=3, num_hidden_layers=5, hidden_layer_width=256)\n",
    "x_values = tf.random.uniform(shape=[512], maxval=273, dtype=tf.int32)\n",
    "y_values = tf.random.uniform(shape=[512], maxval=365, dtype=tf.int32)\n",
    "xy_values = tf.stack([x_values, y_values], axis=1)\n",
    "image_val = tf.gather_nd(img, xy_values)\n",
    "out = siren_model(tf.cast(xy_values, dtype=tf.float32))\n",
    "out = siren_model(tf.cast(coordinates, dtype=tf.float32))\n",
    "test = tf.reshape(out,shape=[273, 365, -1])\n",
    "print(out[1*len(img[0]) + 2])\n",
    "print(test[1][2])"
   ]
  },
  {
   "cell_type": "code",
   "execution_count": 7,
   "metadata": {},
   "outputs": [
    {
     "name": "stderr",
     "output_type": "stream",
     "text": [
      "Step 849; loss => 0.0022:  85%|████████▌ | 851/1000 [00:37<00:06, 22.26it/s]"
     ]
    }
   ],
   "source": [
    "iterations =  5000\n",
    "bar = trange(iterations)\n",
    "optimizer = Adam(1e-4)\n",
    "x_vals, y_vals = tf.meshgrid(tf.range(365), tf.range(273))\n",
    "\n",
    "# Reshape to create pairs of (x, y) coordinates\n",
    "cord_vals = tf.stack([ tf.reshape(y_vals, -1), tf.reshape(x_vals, -1)], axis=1)\n",
    "image_true = tf.gather_nd(img, cord_vals)\n",
    "for i in bar:\n",
    "    with tf.GradientTape() as tape:\n",
    "      #  x_values = tf.random.uniform(shape=[5000], maxval=273, dtype=tf.int32)\n",
    "       # y_values = tf.random.uniform(shape=[5000], maxval=365, dtype=tf.int32)\n",
    "        \n",
    "        xy_values = tf.stack([x_values, y_values], axis=1)\n",
    "        \n",
    "        model_output = siren_model(tf.cast(cord_vals, dtype=tf.float32))\n",
    "        loss = tf.reduce_mean((model_output - image_true)**2)\n",
    "\n",
    "        grads = tape.gradient(loss, siren_model.trainable_variables)\n",
    "        optimizer.apply_gradients(grads, siren_model.trainable_variables)\n",
    "\n",
    "        if i % 10 == (10 - 1):\n",
    "            bar.set_description(f\"Step {i}; loss => {loss.numpy():0.4f}\")\n",
    "            bar.refresh()\n",
    "        \n",
    "out = tf.reshape(model_output,shape=[273, 365, -1])\n",
    "plt.imshow(out)"
   ]
  },
  {
   "cell_type": "code",
   "execution_count": null,
   "metadata": {},
   "outputs": [],
   "source": []
  }
 ],
 "metadata": {
  "kernelspec": {
   "display_name": "Python 3",
   "language": "python",
   "name": "python3"
  },
  "language_info": {
   "codemirror_mode": {
    "name": "ipython",
    "version": 3
   },
   "file_extension": ".py",
   "mimetype": "text/x-python",
   "name": "python",
   "nbconvert_exporter": "python",
   "pygments_lexer": "ipython3",
   "version": "3.11.6"
  }
 },
 "nbformat": 4,
 "nbformat_minor": 2
}
